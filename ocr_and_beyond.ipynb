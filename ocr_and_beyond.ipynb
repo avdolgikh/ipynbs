{
 "cells": [
  {
   "cell_type": "markdown",
   "metadata": {},
   "source": [
    "## OCR\n",
    "\n",
    "https://github.com/h/pytesseract\n",
    "\n",
    "https://github.com/tesseract-ocr/tesseract\n",
    "\n",
    "https://tesseract-ocr.github.io/tessdoc/Installation.html\n",
    "\n",
    "https://github.com/UB-Mannheim/tesseract/wiki"
   ]
  },
  {
   "cell_type": "code",
   "execution_count": null,
   "metadata": {},
   "outputs": [],
   "source": [
    "# ! pip install pytesseract"
   ]
  },
  {
   "cell_type": "code",
   "execution_count": null,
   "metadata": {},
   "outputs": [],
   "source": [
    "from PIL import Image\n",
    "import numpy as np\n",
    "\n",
    "import pytesseract\n",
    "\n",
    "# [Windows] pytesseract.pytesseract.tesseract_cmd = r'C:\\Program Files\\Tesseract-OCR\\tesseract'\n"
   ]
  },
  {
   "cell_type": "code",
   "execution_count": null,
   "metadata": {},
   "outputs": [],
   "source": [
    "filename = '1_python-ocr.jpg'\n",
    "img1 = np.array(Image.open(filename))"
   ]
  },
  {
   "cell_type": "code",
   "execution_count": null,
   "metadata": {},
   "outputs": [],
   "source": [
    "img1.shape"
   ]
  },
  {
   "cell_type": "code",
   "execution_count": null,
   "metadata": {},
   "outputs": [],
   "source": [
    "text = pytesseract.image_to_string(img1)"
   ]
  },
  {
   "cell_type": "code",
   "execution_count": null,
   "metadata": {},
   "outputs": [],
   "source": [
    "text"
   ]
  },
  {
   "cell_type": "markdown",
   "metadata": {},
   "source": [
    "## PyPDF"
   ]
  },
  {
   "cell_type": "code",
   "execution_count": null,
   "metadata": {},
   "outputs": [],
   "source": [
    "!pip install pypdf"
   ]
  },
  {
   "cell_type": "code",
   "execution_count": null,
   "metadata": {},
   "outputs": [],
   "source": [
    "from pypdf import PdfReader\n",
    "\n",
    "reader = PdfReader(\"scary-startup-ticket.pdf\")\n",
    "number_of_pages = len(reader.pages)\n",
    "page = reader.pages[0]\n",
    "text = page.extract_text()"
   ]
  },
  {
   "cell_type": "code",
   "execution_count": null,
   "metadata": {},
   "outputs": [],
   "source": [
    "number_of_pages"
   ]
  },
  {
   "cell_type": "code",
   "execution_count": null,
   "metadata": {},
   "outputs": [],
   "source": [
    "print(text)"
   ]
  },
  {
   "cell_type": "markdown",
   "metadata": {},
   "source": [
    "## Extraction"
   ]
  },
  {
   "cell_type": "code",
   "execution_count": null,
   "metadata": {},
   "outputs": [],
   "source": [
    "# !pip install -U spacy\n",
    "# !python -m spacy download en_core_web_sm"
   ]
  },
  {
   "cell_type": "code",
   "execution_count": null,
   "metadata": {},
   "outputs": [],
   "source": [
    "import spacy\n",
    "import re\n",
    "\n",
    "# Load the spaCy model\n",
    "nlp = spacy.load(\"en_core_web_sm\")\n",
    "\n",
    "# Create a spaCy document\n",
    "doc = nlp(text)\n",
    "\n",
    "# Extract dates\n",
    "dates = [ent.text for ent in doc.ents if ent.label_ == \"DATE\"]\n",
    "\n",
    "# Extract addresses (spaCy may not identify full addresses directly)\n",
    "addresses = []\n",
    "for ent in doc.ents:\n",
    "    if ent.label_ == \"GPE\" or ent.label_ == \"LOC\":  # Locations and geographical names\n",
    "        addresses.append(ent.text)\n",
    "\n",
    "# Extract person names\n",
    "person_names = [ent.text for ent in doc.ents if ent.label_ == \"PERSON\"]\n",
    "\n",
    "# Extract order numbers using regex\n",
    "order_numbers = re.findall(r\"Order #\\d+\", text)\n",
    "\n",
    "# Print extracted information\n",
    "print(\"Dates:\", dates)\n",
    "print(\"Addresses:\", addresses)\n",
    "print(\"Person Names:\", person_names)\n",
    "print(\"Order Numbers:\", order_numbers)\n"
   ]
  },
  {
   "cell_type": "code",
   "execution_count": null,
   "metadata": {},
   "outputs": [],
   "source": [
    "import spacy\n",
    "import re\n",
    "\n",
    "# Load the spaCy model\n",
    "nlp = spacy.load(\"en_core_web_sm\")\n",
    "\n",
    "# Create a spaCy document\n",
    "doc = nlp(text)\n",
    "\n",
    "# Extract dates\n",
    "dates = [ent.text for ent in doc.ents if ent.label_ == \"DATE\"]\n",
    "\n",
    "# Extract full address using a smart approach\n",
    "address_keywords = {\"street\", \"road\", \"avenue\", \"drive\", \"lane\", \"boulevard\", \"place\", \"court\", \"square\", \"way\"}\n",
    "addresses = []\n",
    "address_parts = []\n",
    "\n",
    "for ent in doc.ents:\n",
    "    if ent.label_ in {\"GPE\", \"LOC\", \"ORG\"} or any(keyword in ent.text.lower() for keyword in address_keywords):\n",
    "        address_parts.append(ent.text)\n",
    "\n",
    "if address_parts:\n",
    "    full_address = \", \".join(address_parts)\n",
    "else:\n",
    "    full_address = None\n",
    "\n",
    "# Extract building numbers and zip codes\n",
    "building_numbers = re.findall(r\"\\b\\d+\\b\", full_address) if full_address else []\n",
    "zip_codes = re.findall(r\"\\b[A-Z]\\d[A-Z] \\d[A-Z]\\d\\b|\\b\\d{5}\\b\", text)  # Matches Canadian and US ZIP codes\n",
    "\n",
    "# Extract person names\n",
    "person_names = [ent.text for ent in doc.ents if ent.label_ == \"PERSON\"]\n",
    "\n",
    "# Extract order numbers - only the numeric part\n",
    "order_numbers = [re.search(r\"\\d+\", num).group() for num in re.findall(r\"Order #\\d+\", text)]\n",
    "\n",
    "# Print extracted information\n",
    "print(\"Dates:\", dates)\n",
    "print(\"Full Address:\", full_address)\n",
    "print(\"Building Numbers:\", building_numbers)\n",
    "print(\"ZIP Codes:\", zip_codes)\n",
    "print(\"Person Names:\", person_names)\n",
    "print(\"Order Numbers:\", order_numbers)\n"
   ]
  },
  {
   "cell_type": "markdown",
   "metadata": {},
   "source": [
    "## Spell correction\n",
    "\n",
    "https://github.com/elisaponte/computer_extracted_text_spell_check/blob/main/symspell_implementation.ipynb\n",
    "\n",
    "https://medium.com/social-impact-analytics/spell-checking-computer-extracted-text-from-pdfs-9390c05bb2e5"
   ]
  },
  {
   "cell_type": "code",
   "execution_count": null,
   "metadata": {},
   "outputs": [],
   "source": [
    "# !pip install symspellpy"
   ]
  },
  {
   "cell_type": "code",
   "execution_count": null,
   "metadata": {},
   "outputs": [],
   "source": [
    "from symspellpy.symspellpy import SymSpell"
   ]
  },
  {
   "cell_type": "code",
   "execution_count": null,
   "metadata": {},
   "outputs": [],
   "source": []
  },
  {
   "cell_type": "code",
   "execution_count": null,
   "metadata": {},
   "outputs": [],
   "source": []
  },
  {
   "cell_type": "code",
   "execution_count": null,
   "metadata": {},
   "outputs": [],
   "source": []
  },
  {
   "cell_type": "code",
   "execution_count": null,
   "metadata": {},
   "outputs": [],
   "source": []
  }
 ],
 "metadata": {
  "kernelspec": {
   "display_name": "Python 3",
   "language": "python",
   "name": "python3"
  },
  "language_info": {
   "codemirror_mode": {
    "name": "ipython",
    "version": 3
   },
   "file_extension": ".py",
   "mimetype": "text/x-python",
   "name": "python",
   "nbconvert_exporter": "python",
   "pygments_lexer": "ipython3",
   "version": "3.11.9"
  }
 },
 "nbformat": 4,
 "nbformat_minor": 2
}
