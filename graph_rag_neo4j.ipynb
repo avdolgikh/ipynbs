{
 "cells": [
  {
   "cell_type": "code",
   "execution_count": null,
   "metadata": {},
   "outputs": [],
   "source": [
    "import os\n",
    "import json\n",
    "import numpy as np\n",
    "import polars as pl\n",
    "\n",
    "from langchain.text_splitter import RecursiveCharacterTextSplitter\n",
    "from langchain.vectorstores.neo4j_vector import Neo4jVector\n",
    "from langchain.chains import RetrievalQAWithSourcesChain\n",
    "from langchain.chat_models import ChatOpenAI\n",
    "from langchain_community.graphs import Neo4jGraph\n",
    "from langchain.embeddings.openai import OpenAIEmbeddings\n",
    "from langchain.chains import GraphCypherQAChain\n",
    "from langchain_core.prompts import ChatPromptTemplate\n",
    "from langchain.prompts.prompt import PromptTemplate\n",
    "from langchain.chains import create_retrieval_chain\n",
    "from langchain.chains.combine_documents import create_stuff_documents_chain\n",
    "\n",
    "from openai import OpenAI\n",
    "\n",
    "import pprint"
   ]
  },
  {
   "cell_type": "code",
   "execution_count": null,
   "metadata": {},
   "outputs": [],
   "source": [
    "NEO4J_URI = \"bolt://localhost:7687\"\n",
    "NEO4J_USERNAME = \"neo4j\"\n",
    "NEO4J_PASSWORD = \"gT83_w5bQ2@\"\n",
    "NEO4J_DATABASE = \"jobs\""
   ]
  },
  {
   "cell_type": "code",
   "execution_count": null,
   "metadata": {},
   "outputs": [],
   "source": [
    "kg = Neo4jGraph(\n",
    "    url=NEO4J_URI,\n",
    "    username=NEO4J_USERNAME,\n",
    "    password=NEO4J_PASSWORD,\n",
    "    database=NEO4J_DATABASE\n",
    ")"
   ]
  },
  {
   "cell_type": "code",
   "execution_count": null,
   "metadata": {},
   "outputs": [],
   "source": [
    "kg.refresh_schema()\n",
    "print(kg.schema)"
   ]
  },
  {
   "cell_type": "code",
   "execution_count": null,
   "metadata": {},
   "outputs": [],
   "source": []
  },
  {
   "cell_type": "code",
   "execution_count": null,
   "metadata": {},
   "outputs": [],
   "source": []
  },
  {
   "cell_type": "markdown",
   "metadata": {},
   "source": [
    "## Questions"
   ]
  },
  {
   "cell_type": "code",
   "execution_count": null,
   "metadata": {},
   "outputs": [],
   "source": [
    "USER_QUESTIONS = [\n",
    "    \"Summarize all e-commerce jobs\",\n",
    "    \"What is the most common job?\",\n",
    "]"
   ]
  },
  {
   "cell_type": "code",
   "execution_count": null,
   "metadata": {},
   "outputs": [],
   "source": []
  },
  {
   "cell_type": "markdown",
   "metadata": {},
   "source": [
    "## Vector RAG (no Graphs)"
   ]
  },
  {
   "cell_type": "code",
   "execution_count": null,
   "metadata": {},
   "outputs": [],
   "source": [
    "db_indices = kg.query(\"SHOW INDEXES\")\n",
    "\n",
    "[index[\"name\"] for index in db_indices]"
   ]
  },
  {
   "cell_type": "code",
   "execution_count": null,
   "metadata": {},
   "outputs": [],
   "source": [
    "neo4j_vector_store = Neo4jVector.from_existing_index(\n",
    "    embedding = OpenAIEmbeddings(\n",
    "        model = \"text-embedding-3-small\",\n",
    "    ),\n",
    "    url = NEO4J_URI,\n",
    "    username = NEO4J_USERNAME,\n",
    "    password = NEO4J_PASSWORD,\n",
    "    database=NEO4J_DATABASE,\n",
    "    index_name = \"vector_jd_chunk\",\n",
    "    text_node_property = \"jd_chunk\",\n",
    "    # search_type=\"vector\",\n",
    ")"
   ]
  },
  {
   "cell_type": "code",
   "execution_count": null,
   "metadata": {},
   "outputs": [],
   "source": [
    "# Vanila RAG (no Graph involved)\n",
    "retriever = neo4j_vector_store.as_retriever(k=10) # k=4 <-- default"
   ]
  },
  {
   "cell_type": "code",
   "execution_count": null,
   "metadata": {},
   "outputs": [],
   "source": [
    "retriever"
   ]
  },
  {
   "cell_type": "code",
   "execution_count": null,
   "metadata": {},
   "outputs": [],
   "source": [
    "ir_result = retriever.invoke(\n",
    "    USER_QUESTIONS[0]\n",
    ")"
   ]
  },
  {
   "cell_type": "code",
   "execution_count": null,
   "metadata": {},
   "outputs": [],
   "source": [
    "print(USER_QUESTIONS[0])\n",
    "for doc in ir_result:\n",
    "    print(doc.__dict__)"
   ]
  },
  {
   "cell_type": "code",
   "execution_count": null,
   "metadata": {},
   "outputs": [],
   "source": [
    "llm = ChatOpenAI(\n",
    "        model=\"gpt-4o\", # \"gpt-3.5-turbo-0125\",\n",
    "        temperature=0,\n",
    "    )\n",
    "\n",
    "# template = (\n",
    "#     \"Use the given context to answer the question. \"\n",
    "#     \"If you don't know the answer, say you don't know. \"\n",
    "#     \"Use three sentence maximum and keep the answer concise. \"\n",
    "#     \"Context: {context}\"\n",
    "# )\n",
    "# prompt = ChatPromptTemplate.from_template(template)"
   ]
  },
  {
   "cell_type": "code",
   "execution_count": null,
   "metadata": {},
   "outputs": [],
   "source": [
    "# chain = prompt | llm\n",
    "\n",
    "# chain = (\n",
    "#             {\"context\": retriever}\n",
    "#             | prompt\n",
    "#             | llm\n",
    "# )"
   ]
  },
  {
   "cell_type": "code",
   "execution_count": null,
   "metadata": {},
   "outputs": [],
   "source": [
    "# chain.invoke(USER_QUESTIONS[0])"
   ]
  },
  {
   "cell_type": "code",
   "execution_count": null,
   "metadata": {},
   "outputs": [],
   "source": []
  },
  {
   "cell_type": "code",
   "execution_count": null,
   "metadata": {},
   "outputs": [],
   "source": [
    "def create_rag_chain(llm, retriever):\n",
    "    system_prompt = (\n",
    "        \"Use the given context to answer the question. \"\n",
    "        \"If you don't know the answer, say you don't know. \"\n",
    "        \"Use three sentence maximum and keep the answer concise. \"\n",
    "        \"Context: {context}\"\n",
    "    )\n",
    "    prompt = ChatPromptTemplate.from_messages(\n",
    "        [\n",
    "            (\"system\", system_prompt),\n",
    "            (\"human\", \"{input}\"),\n",
    "        ]\n",
    "    )\n",
    "    question_answer_chain = create_stuff_documents_chain(llm, prompt)\n",
    "    return create_retrieval_chain(retriever, question_answer_chain)"
   ]
  },
  {
   "cell_type": "code",
   "execution_count": null,
   "metadata": {},
   "outputs": [],
   "source": [
    "rag_chain = create_rag_chain(llm, retriever)"
   ]
  },
  {
   "cell_type": "code",
   "execution_count": null,
   "metadata": {},
   "outputs": [],
   "source": [
    "for question in USER_QUESTIONS:\n",
    "    chain_result = rag_chain.invoke({\"input\": question})\n",
    "    pprint.pp(chain_result)"
   ]
  },
  {
   "cell_type": "code",
   "execution_count": null,
   "metadata": {},
   "outputs": [],
   "source": []
  },
  {
   "cell_type": "markdown",
   "metadata": {},
   "source": [
    "## Vector RAG with JD chunk and extra text"
   ]
  },
  {
   "cell_type": "code",
   "execution_count": null,
   "metadata": {},
   "outputs": [],
   "source": [
    "kg.refresh_schema()\n",
    "print(kg.schema)"
   ]
  },
  {
   "cell_type": "code",
   "execution_count": null,
   "metadata": {},
   "outputs": [],
   "source": [
    "retrieval_query_extra_text = \"\"\"\n",
    "WITH node, score, \"Below is a part of a job description of 2023 jobs.\" as intro_text\n",
    "RETURN intro_text + \"\\n\" + node.jd_chunk as text,\n",
    "    score,\n",
    "    node {.job_id, .jd_chunk_seq_id} AS metadata\n",
    "\"\"\""
   ]
  },
  {
   "cell_type": "code",
   "execution_count": null,
   "metadata": {},
   "outputs": [],
   "source": [
    "neo4j_vector_store_extra_text = Neo4jVector.from_existing_index(\n",
    "    embedding = OpenAIEmbeddings(\n",
    "        model = \"text-embedding-3-small\",\n",
    "    ),\n",
    "    url = NEO4J_URI,\n",
    "    username = NEO4J_USERNAME,\n",
    "    password = NEO4J_PASSWORD,\n",
    "    database=NEO4J_DATABASE,\n",
    "    index_name = \"vector_jd_chunk\",\n",
    "    text_node_property = \"jd_chunk\",\n",
    "    retrieval_query=retrieval_query_extra_text,\n",
    ")"
   ]
  },
  {
   "cell_type": "code",
   "execution_count": null,
   "metadata": {},
   "outputs": [],
   "source": [
    "retriever_extra_text = neo4j_vector_store_extra_text.as_retriever(k=10)"
   ]
  },
  {
   "cell_type": "code",
   "execution_count": null,
   "metadata": {},
   "outputs": [],
   "source": [
    "ir_result = retriever_extra_text.invoke(\n",
    "    USER_QUESTIONS[0]\n",
    ")"
   ]
  },
  {
   "cell_type": "code",
   "execution_count": null,
   "metadata": {},
   "outputs": [],
   "source": [
    "ir_result"
   ]
  },
  {
   "cell_type": "code",
   "execution_count": null,
   "metadata": {},
   "outputs": [],
   "source": [
    "print(USER_QUESTIONS[0])\n",
    "for doc in ir_result:\n",
    "    print(doc.__dict__)"
   ]
  },
  {
   "cell_type": "code",
   "execution_count": null,
   "metadata": {},
   "outputs": [],
   "source": [
    "rag_chain = create_rag_chain(llm, retriever_extra_text)"
   ]
  },
  {
   "cell_type": "code",
   "execution_count": null,
   "metadata": {},
   "outputs": [],
   "source": [
    "for question in USER_QUESTIONS:\n",
    "    chain_result = rag_chain.invoke({\"input\": question})\n",
    "    pprint.pp(chain_result)"
   ]
  },
  {
   "cell_type": "code",
   "execution_count": null,
   "metadata": {},
   "outputs": [],
   "source": []
  },
  {
   "cell_type": "markdown",
   "metadata": {},
   "source": [
    "## Vector RAG with window of JD and job tiltles"
   ]
  },
  {
   "cell_type": "code",
   "execution_count": null,
   "metadata": {},
   "outputs": [],
   "source": [
    "kg.refresh_schema()\n",
    "print(kg.schema)"
   ]
  },
  {
   "cell_type": "code",
   "execution_count": null,
   "metadata": {},
   "outputs": [],
   "source": [
    "N_NEIGHBOR_CHUNKS = 5"
   ]
  },
  {
   "cell_type": "code",
   "execution_count": null,
   "metadata": {},
   "outputs": [],
   "source": [
    "retrieval_query_window = f\"\"\"\n",
    "MATCH window=\n",
    "    (:JD_Chunk)-[:NEXT*0..{N_NEIGHBOR_CHUNKS}]->(node)-[:NEXT*0..{N_NEIGHBOR_CHUNKS}]->(:JD_Chunk)\n",
    "WITH node, score, window as longestWindow \n",
    "  ORDER BY length(window) DESC LIMIT 100\n",
    "WITH nodes(longestWindow) as chunkList, node, score\n",
    "  UNWIND chunkList as chunkRows\n",
    "WITH collect(chunkRows.jd_chunk) as textList, node, score\n",
    "RETURN apoc.text.join(textList, \" \\\\n \") as text,\n",
    "    score,\n",
    "    node {{.job_id, .jd_chunk_seq_id}} AS metadata\n",
    "\"\"\"\n"
   ]
  },
  {
   "cell_type": "code",
   "execution_count": null,
   "metadata": {},
   "outputs": [],
   "source": [
    "print(retrieval_query_window)"
   ]
  },
  {
   "cell_type": "code",
   "execution_count": null,
   "metadata": {},
   "outputs": [],
   "source": [
    "neo4j_vector_store_window = Neo4jVector.from_existing_index(\n",
    "    embedding = OpenAIEmbeddings(\n",
    "        model = \"text-embedding-3-small\",\n",
    "    ),\n",
    "    url = NEO4J_URI,\n",
    "    username = NEO4J_USERNAME,\n",
    "    password = NEO4J_PASSWORD,\n",
    "    database=NEO4J_DATABASE,\n",
    "    index_name = \"vector_jd_chunk\",\n",
    "    text_node_property = \"jd_chunk\",\n",
    "    retrieval_query=retrieval_query_window,\n",
    ")"
   ]
  },
  {
   "cell_type": "code",
   "execution_count": null,
   "metadata": {},
   "outputs": [],
   "source": [
    "retriever_window = neo4j_vector_store_window.as_retriever(k=10)"
   ]
  },
  {
   "cell_type": "code",
   "execution_count": null,
   "metadata": {},
   "outputs": [],
   "source": [
    "ir_result = retriever_window.invoke(\n",
    "    USER_QUESTIONS[0]\n",
    ")\n",
    "\n",
    "ir_result"
   ]
  },
  {
   "cell_type": "code",
   "execution_count": null,
   "metadata": {},
   "outputs": [],
   "source": [
    "rag_chain = create_rag_chain(llm, retriever_window)"
   ]
  },
  {
   "cell_type": "code",
   "execution_count": null,
   "metadata": {},
   "outputs": [],
   "source": [
    "for question in USER_QUESTIONS:\n",
    "    chain_result = rag_chain.invoke({\"input\": question})\n",
    "    pprint.pp(chain_result)"
   ]
  },
  {
   "cell_type": "code",
   "execution_count": null,
   "metadata": {},
   "outputs": [],
   "source": []
  },
  {
   "cell_type": "code",
   "execution_count": null,
   "metadata": {},
   "outputs": [],
   "source": [
    "N_NEIGHBOR_CHUNKS = 10"
   ]
  },
  {
   "cell_type": "code",
   "execution_count": null,
   "metadata": {},
   "outputs": [],
   "source": [
    "retrieval_query_window_title = f\"\"\"\n",
    "MATCH window =\n",
    "    (:JD_Chunk)-[:NEXT*0..{N_NEIGHBOR_CHUNKS}]->(node)-[:NEXT*0..{N_NEIGHBOR_CHUNKS}]->(:JD_Chunk)\n",
    "WITH node, score, window as longestWindow \n",
    "  ORDER BY length(window) DESC\n",
    "WITH DISTINCT node, collect(score)[0] AS score, collect(longestWindow)[0] AS longestWindow\n",
    "WITH nodes(longestWindow) as chunkList, node, score\n",
    "  UNWIND chunkList as chunkRows\n",
    "WITH collect(chunkRows.jd_chunk) as textList, node, score\n",
    "MATCH (node)-[:PART_OF]->(job:Job)\n",
    "WITH DISTINCT job, collect(textList)[0] AS textList, collect(node)[0] AS node, collect(score)[0] AS score\n",
    "RETURN \"Job title: \" + job.job_title + \"\\\\n Job description: \" + apoc.text.join(textList, \" \\\\n \") as text,\n",
    "    score,\n",
    "    node {{.job_id, .jd_chunk_seq_id}} AS metadata\n",
    "\"\"\""
   ]
  },
  {
   "cell_type": "code",
   "execution_count": null,
   "metadata": {},
   "outputs": [],
   "source": [
    "print(retrieval_query_window_title)"
   ]
  },
  {
   "cell_type": "code",
   "execution_count": null,
   "metadata": {},
   "outputs": [],
   "source": [
    "neo4j_vector_store_window_title = Neo4jVector.from_existing_index(\n",
    "    embedding = OpenAIEmbeddings(\n",
    "        model = \"text-embedding-3-small\",\n",
    "    ),\n",
    "    url = NEO4J_URI,\n",
    "    username = NEO4J_USERNAME,\n",
    "    password = NEO4J_PASSWORD,\n",
    "    database=NEO4J_DATABASE,\n",
    "    index_name = \"vector_jd_chunk\",\n",
    "    text_node_property = \"jd_chunk\",\n",
    "    retrieval_query=retrieval_query_window_title,\n",
    ")"
   ]
  },
  {
   "cell_type": "code",
   "execution_count": null,
   "metadata": {},
   "outputs": [],
   "source": [
    "retriever_window_title = neo4j_vector_store_window_title.as_retriever(k=10)"
   ]
  },
  {
   "cell_type": "code",
   "execution_count": null,
   "metadata": {},
   "outputs": [],
   "source": [
    "ir_result = retriever_window_title.invoke(\n",
    "    USER_QUESTIONS[1]\n",
    ")\n",
    "\n",
    "ir_result"
   ]
  },
  {
   "cell_type": "code",
   "execution_count": null,
   "metadata": {},
   "outputs": [],
   "source": [
    "print(ir_result[0].page_content)"
   ]
  },
  {
   "cell_type": "code",
   "execution_count": null,
   "metadata": {},
   "outputs": [],
   "source": [
    "rag_chain = create_rag_chain(llm, retriever_window_title)"
   ]
  },
  {
   "cell_type": "code",
   "execution_count": null,
   "metadata": {},
   "outputs": [],
   "source": [
    "for question in USER_QUESTIONS:\n",
    "    chain_result = rag_chain.invoke({\"input\": question})\n",
    "    pprint.pp(chain_result)"
   ]
  },
  {
   "cell_type": "code",
   "execution_count": null,
   "metadata": {},
   "outputs": [],
   "source": []
  },
  {
   "cell_type": "code",
   "execution_count": null,
   "metadata": {},
   "outputs": [],
   "source": [
    "chain_result = rag_chain.invoke({\"input\": \"Summarize all Salesforce jobs\"})\n",
    "# pprint.pp(chain_result)\n",
    "pprint.pp(chain_result[\"answer\"])"
   ]
  },
  {
   "cell_type": "code",
   "execution_count": null,
   "metadata": {},
   "outputs": [],
   "source": []
  },
  {
   "cell_type": "markdown",
   "metadata": {},
   "source": [
    "## Vector RAG on Job titles and all available information"
   ]
  },
  {
   "cell_type": "code",
   "execution_count": null,
   "metadata": {},
   "outputs": [],
   "source": [
    "kg.refresh_schema()\n",
    "print(kg.schema)"
   ]
  },
  {
   "cell_type": "code",
   "execution_count": null,
   "metadata": {},
   "outputs": [],
   "source": [
    "db_indices = kg.query(\"SHOW INDEXES\")\n",
    "\n",
    "[(index[\"name\"], index[\"type\"]) for index in db_indices]"
   ]
  },
  {
   "cell_type": "code",
   "execution_count": null,
   "metadata": {},
   "outputs": [],
   "source": [
    "retrieval_query_job_title = f\"\"\"\n",
    "MATCH\n",
    "  (node)-[:SECTION]->(jd_first_chunk:JD_Chunk)\n",
    "WITH node, score, jd_first_chunk\n",
    "RETURN\n",
    "  \"Job title: \" + node.job_title\n",
    "    + \"\\\\n Job description: \" + jd_first_chunk.jd_chunk\n",
    "    + \"\\\\n Job skills: \" + apoc.text.join(node.skills, \", \")\n",
    "    + \"\\\\n Job vertical: \" + node.job_vertical\n",
    "    + \"\\\\n Job posted at: \" + node.job_posted_at\n",
    "    + \"\\\\n Job client: \" + node.client_name\n",
    "    + \"\\\\n Job client type: \" + node.client_type\n",
    "    AS text,\n",
    "  score,\n",
    "  node {{.job_id, .client_id}} AS metadata\n",
    "\"\"\""
   ]
  },
  {
   "cell_type": "code",
   "execution_count": null,
   "metadata": {},
   "outputs": [],
   "source": [
    "print(retrieval_query_job_title)"
   ]
  },
  {
   "cell_type": "code",
   "execution_count": null,
   "metadata": {},
   "outputs": [],
   "source": [
    "neo4j_vector_store_job_title = Neo4jVector.from_existing_index(\n",
    "    embedding = OpenAIEmbeddings(\n",
    "        model = \"text-embedding-3-small\",\n",
    "    ),\n",
    "    url = NEO4J_URI,\n",
    "    username = NEO4J_USERNAME,\n",
    "    password = NEO4J_PASSWORD,\n",
    "    database=NEO4J_DATABASE,\n",
    "    index_name = \"vector_job_title\",\n",
    "    text_node_property = \"job_title\",\n",
    "    retrieval_query=retrieval_query_job_title,\n",
    ")"
   ]
  },
  {
   "cell_type": "code",
   "execution_count": null,
   "metadata": {},
   "outputs": [],
   "source": [
    "retriever_job_title = neo4j_vector_store_job_title.as_retriever(k=10)"
   ]
  },
  {
   "cell_type": "code",
   "execution_count": null,
   "metadata": {},
   "outputs": [],
   "source": [
    "ir_result = retriever_job_title.invoke(\n",
    "    USER_QUESTIONS[0]\n",
    ")\n",
    "\n",
    "ir_result"
   ]
  },
  {
   "cell_type": "code",
   "execution_count": null,
   "metadata": {},
   "outputs": [],
   "source": [
    "print(ir_result[1].page_content)"
   ]
  },
  {
   "cell_type": "code",
   "execution_count": null,
   "metadata": {},
   "outputs": [],
   "source": [
    "rag_chain = create_rag_chain(llm, retriever_job_title)"
   ]
  },
  {
   "cell_type": "code",
   "execution_count": null,
   "metadata": {},
   "outputs": [],
   "source": [
    "for question in USER_QUESTIONS:\n",
    "    chain_result = rag_chain.invoke({\"input\": question})\n",
    "    pprint.pp(chain_result)"
   ]
  },
  {
   "cell_type": "code",
   "execution_count": null,
   "metadata": {},
   "outputs": [],
   "source": []
  },
  {
   "cell_type": "code",
   "execution_count": null,
   "metadata": {},
   "outputs": [],
   "source": [
    "retrieval_query_job_title_jd_window = f\"\"\"\n",
    "MATCH\n",
    "  (node)-[:SECTION]->(jd_first_chunk:JD_Chunk)\n",
    "WITH node, score, jd_first_chunk\n",
    "\n",
    "MATCH jd_window =\n",
    "    (jd_first_chunk)-[:NEXT*0..100]->(:JD_Chunk)\n",
    "\n",
    "WITH node, score, jd_window AS longest_jd_window \n",
    "  ORDER BY length(jd_window) DESC\n",
    "\n",
    "WITH DISTINCT node, collect(score)[0] AS score, collect(longest_jd_window)[0] AS longest_jd_window\n",
    "\n",
    "WITH nodes(longest_jd_window) AS jd_chunk_list, node, score\n",
    "  UNWIND jd_chunk_list AS jd_chunks\n",
    "\n",
    "WITH collect(jd_chunks.jd_chunk) AS jd_chunks, node, score\n",
    "\n",
    "RETURN\n",
    "  \"Job title: \" + node.job_title\n",
    "    + \"\\\\n Job description: \" + apoc.text.join(jd_chunks, \" \\\\n \")\n",
    "    + \"\\\\n Job skills: \" + apoc.text.join(node.skills, \", \")\n",
    "    + \"\\\\n Job vertical: \" + node.job_vertical\n",
    "    + \"\\\\n Job posted at: \" + node.job_posted_at\n",
    "    + \"\\\\n Job client: \" + node.client_name\n",
    "    + \"\\\\n Job client type: \" + node.client_type\n",
    "    AS text,\n",
    "  score,\n",
    "  node {{.job_id, .client_id}} AS metadata\n",
    "\"\"\""
   ]
  },
  {
   "cell_type": "code",
   "execution_count": null,
   "metadata": {},
   "outputs": [],
   "source": [
    "print(retrieval_query_job_title_jd_window)"
   ]
  },
  {
   "cell_type": "code",
   "execution_count": null,
   "metadata": {},
   "outputs": [],
   "source": [
    "neo4j_vector_store_job_title_jd_window = Neo4jVector.from_existing_index(\n",
    "    embedding = OpenAIEmbeddings(\n",
    "        model = \"text-embedding-3-small\",\n",
    "    ),\n",
    "    url = NEO4J_URI,\n",
    "    username = NEO4J_USERNAME,\n",
    "    password = NEO4J_PASSWORD,\n",
    "    database=NEO4J_DATABASE,\n",
    "    index_name = \"vector_job_title\",\n",
    "    text_node_property = \"job_title\",\n",
    "    retrieval_query=retrieval_query_job_title_jd_window,\n",
    ")"
   ]
  },
  {
   "cell_type": "code",
   "execution_count": null,
   "metadata": {},
   "outputs": [],
   "source": [
    "retriever_job_title_jd_window = neo4j_vector_store_job_title_jd_window.as_retriever(k=10)"
   ]
  },
  {
   "cell_type": "code",
   "execution_count": null,
   "metadata": {},
   "outputs": [],
   "source": [
    "ir_result = retriever_job_title_jd_window.invoke(\n",
    "    USER_QUESTIONS[0]\n",
    ")\n",
    "\n",
    "ir_result"
   ]
  },
  {
   "cell_type": "code",
   "execution_count": null,
   "metadata": {},
   "outputs": [],
   "source": [
    "print(ir_result[1].page_content)"
   ]
  },
  {
   "cell_type": "code",
   "execution_count": null,
   "metadata": {},
   "outputs": [],
   "source": [
    "rag_chain = create_rag_chain(llm, retriever_job_title_jd_window)"
   ]
  },
  {
   "cell_type": "code",
   "execution_count": null,
   "metadata": {},
   "outputs": [],
   "source": [
    "for question in USER_QUESTIONS:\n",
    "    chain_result = rag_chain.invoke({\"input\": question})\n",
    "    pprint.pp(chain_result)"
   ]
  },
  {
   "cell_type": "code",
   "execution_count": null,
   "metadata": {},
   "outputs": [],
   "source": [
    "chain_result = rag_chain.invoke({\"input\": \"Summarize all Salesforce jobs\"})\n",
    "# pprint.pp(chain_result)\n",
    "pprint.pp(chain_result[\"answer\"])"
   ]
  },
  {
   "cell_type": "code",
   "execution_count": null,
   "metadata": {},
   "outputs": [],
   "source": []
  },
  {
   "cell_type": "markdown",
   "metadata": {},
   "source": [
    "## Full text search"
   ]
  },
  {
   "cell_type": "code",
   "execution_count": null,
   "metadata": {},
   "outputs": [],
   "source": [
    "kg.refresh_schema()\n",
    "print(kg.schema)"
   ]
  },
  {
   "cell_type": "code",
   "execution_count": null,
   "metadata": {},
   "outputs": [],
   "source": [
    "db_indices = kg.query(\"SHOW INDEXES\")\n",
    "\n",
    "[(index[\"name\"], index[\"type\"]) for index in db_indices]"
   ]
  },
  {
   "cell_type": "code",
   "execution_count": null,
   "metadata": {},
   "outputs": [],
   "source": [
    "job_title_contains = \"Data Scuence\"\n",
    "\n",
    "cypher = f\"\"\"\n",
    "  CALL db.index.fulltext.queryNodes(\"fulltext_job_title\", \n",
    "      \"{job_title_contains}\") YIELD node, score\n",
    "  RETURN node.job_title, score\n",
    "\"\"\"\n",
    "\n",
    "print(cypher)"
   ]
  },
  {
   "cell_type": "code",
   "execution_count": null,
   "metadata": {},
   "outputs": [],
   "source": [
    "kg.query(cypher)"
   ]
  },
  {
   "cell_type": "code",
   "execution_count": null,
   "metadata": {},
   "outputs": [],
   "source": [
    "job_skills_contains = \"Data Scyence\"\n",
    "\n",
    "cypher = f\"\"\"\n",
    "  CALL db.index.fulltext.queryNodes(\"fulltext_skills\", \n",
    "      \"{job_title_contains}\") YIELD node, score\n",
    "  RETURN node.skills, score\n",
    "\"\"\"\n",
    "\n",
    "print(cypher)"
   ]
  },
  {
   "cell_type": "code",
   "execution_count": null,
   "metadata": {},
   "outputs": [],
   "source": [
    "kg.query(cypher)"
   ]
  },
  {
   "cell_type": "code",
   "execution_count": null,
   "metadata": {},
   "outputs": [],
   "source": []
  },
  {
   "cell_type": "code",
   "execution_count": null,
   "metadata": {},
   "outputs": [],
   "source": []
  },
  {
   "cell_type": "code",
   "execution_count": null,
   "metadata": {},
   "outputs": [],
   "source": []
  },
  {
   "cell_type": "markdown",
   "metadata": {},
   "source": [
    "## Generate Cypher query by LLM "
   ]
  },
  {
   "cell_type": "code",
   "execution_count": null,
   "metadata": {},
   "outputs": [],
   "source": [
    "kg.refresh_schema()\n",
    "print(kg.schema)"
   ]
  },
  {
   "cell_type": "code",
   "execution_count": null,
   "metadata": {},
   "outputs": [],
   "source": [
    "CYPHER_GENERATION_TEMPLATE = \"\"\"Task:Generate Cypher statement to \n",
    "query a graph database.\n",
    "\n",
    "Instructions:\n",
    "Use only the provided relationship types and properties in the \n",
    "schema. Do not use any other relationship types or properties that \n",
    "are not provided.\n",
    "\n",
    "Schema:\n",
    "{schema}\n",
    "\n",
    "Note: Do not include any explanations or apologies in your responses.\n",
    "Do not respond to any questions that might ask anything else than \n",
    "for you to construct a Cypher statement.\n",
    "Do not include any text except the generated Cypher statement.\n",
    "\n",
    "The question is:\n",
    "{question}\n",
    "\n",
    "\n",
    "EXAMPLES:\n",
    "Here are a few examples of generated Cypher\n",
    "statements for particular questions:\n",
    "\"\"\""
   ]
  },
  {
   "cell_type": "code",
   "execution_count": null,
   "metadata": {},
   "outputs": [],
   "source": []
  },
  {
   "cell_type": "code",
   "execution_count": null,
   "metadata": {},
   "outputs": [],
   "source": [
    "# CYPHER_GENERATION_PROMPT = PromptTemplate(\n",
    "#     input_variables=[\"schema\", \"question\"], \n",
    "#     template=CYPHER_GENERATION_TEMPLATE\n",
    "# )"
   ]
  },
  {
   "cell_type": "code",
   "execution_count": null,
   "metadata": {},
   "outputs": [],
   "source": [
    "# cypherChain = GraphCypherQAChain.from_llm(\n",
    "#     llm,\n",
    "#     graph=kg,\n",
    "#     verbose=True,\n",
    "#     cypher_prompt=CYPHER_GENERATION_PROMPT,\n",
    "# )"
   ]
  },
  {
   "cell_type": "code",
   "execution_count": null,
   "metadata": {},
   "outputs": [],
   "source": []
  },
  {
   "cell_type": "code",
   "execution_count": null,
   "metadata": {},
   "outputs": [],
   "source": [
    "# CYPHER_GENERATION_TEMPLATE += \"\"\"\n",
    "# # What jobs are related to Salesforce?\n",
    "# CALL db.index.fulltext.queryNodes(\"fulltext_job_title\", \n",
    "#       \"Salesforce\") YIELD node, score\n",
    "#   RETURN node.job_title\n",
    "# \"\"\""
   ]
  },
  {
   "cell_type": "code",
   "execution_count": null,
   "metadata": {},
   "outputs": [],
   "source": []
  },
  {
   "cell_type": "code",
   "execution_count": null,
   "metadata": {},
   "outputs": [],
   "source": [
    "def query_graph_db(cypher_generation_template, llm, kg, question):\n",
    "    cypher_generation_prompt = PromptTemplate(\n",
    "        input_variables=[\"schema\", \"question\"], \n",
    "        template=cypher_generation_template,\n",
    "    )\n",
    "    cypher_chain = GraphCypherQAChain.from_llm(\n",
    "        llm,\n",
    "        graph=kg,\n",
    "        verbose=True,\n",
    "        cypher_prompt=cypher_generation_prompt,\n",
    "    )\n",
    "    cypher_chain.top_k = 100\n",
    "    return cypher_chain.run(question)"
   ]
  },
  {
   "cell_type": "code",
   "execution_count": null,
   "metadata": {},
   "outputs": [],
   "source": [
    "USER_QUESTIONS"
   ]
  },
  {
   "cell_type": "code",
   "execution_count": null,
   "metadata": {},
   "outputs": [],
   "source": []
  },
  {
   "cell_type": "code",
   "execution_count": null,
   "metadata": {},
   "outputs": [],
   "source": [
    "llm = ChatOpenAI(\n",
    "    model=\"gpt-4o\",\n",
    "    temperature=0,\n",
    ")"
   ]
  },
  {
   "cell_type": "code",
   "execution_count": null,
   "metadata": {},
   "outputs": [],
   "source": [
    "result = query_graph_db(\n",
    "    CYPHER_GENERATION_TEMPLATE,\n",
    "    llm,\n",
    "    kg,\n",
    "    \"What jobs contain E-commerce in title?\",\n",
    ")"
   ]
  },
  {
   "cell_type": "code",
   "execution_count": null,
   "metadata": {},
   "outputs": [],
   "source": [
    "result = query_graph_db(\n",
    "    CYPHER_GENERATION_TEMPLATE,\n",
    "    llm,\n",
    "    kg,\n",
    "    USER_QUESTIONS[0],\n",
    ")"
   ]
  },
  {
   "cell_type": "code",
   "execution_count": null,
   "metadata": {},
   "outputs": [],
   "source": [
    "# result = query_graph_db(\n",
    "#     CYPHER_GENERATION_TEMPLATE,\n",
    "#     llm,\n",
    "#     kg,\n",
    "#     \"What jobs are related to Salesforce?\",\n",
    "# )"
   ]
  },
  {
   "cell_type": "code",
   "execution_count": null,
   "metadata": {},
   "outputs": [],
   "source": [
    "result = query_graph_db(\n",
    "    CYPHER_GENERATION_TEMPLATE,\n",
    "    llm,\n",
    "    kg,\n",
    "    \"What jobs are related to E-commerce?\",\n",
    ")"
   ]
  },
  {
   "cell_type": "code",
   "execution_count": null,
   "metadata": {},
   "outputs": [],
   "source": []
  },
  {
   "cell_type": "code",
   "execution_count": null,
   "metadata": {},
   "outputs": [],
   "source": [
    "# CYPHER_GENERATION_TEMPLATE += \"\"\"\n",
    "# # What jobs are related to Salesforce?\n",
    "# CALL db.index.fulltext.queryNodes(\"fulltext_job_title\", \n",
    "#       \"Salesforce\") YIELD node, score\n",
    "#   RETURN node.job_title\n",
    "# \"\"\""
   ]
  },
  {
   "cell_type": "code",
   "execution_count": null,
   "metadata": {},
   "outputs": [],
   "source": []
  },
  {
   "cell_type": "code",
   "execution_count": null,
   "metadata": {},
   "outputs": [],
   "source": []
  },
  {
   "cell_type": "code",
   "execution_count": null,
   "metadata": {},
   "outputs": [],
   "source": [
    "template = CYPHER_GENERATION_TEMPLATE + \"\"\"\n",
    "# What jobs are related to Salesforce?\n",
    "CALL db.index.fulltext.queryNodes(\"fulltext_job_title\", \n",
    "      \"Salesforce\") YIELD node, score\n",
    "  RETURN node.job_title\n",
    "\"\"\"\n",
    "\n",
    "\n",
    "context = query_graph_db(\n",
    "    template,\n",
    "    llm,\n",
    "    kg,\n",
    "    \"What jobs are related to E-Commerce?\",\n",
    ")"
   ]
  },
  {
   "cell_type": "code",
   "execution_count": null,
   "metadata": {},
   "outputs": [],
   "source": [
    "context"
   ]
  },
  {
   "cell_type": "code",
   "execution_count": null,
   "metadata": {},
   "outputs": [],
   "source": [
    "# def call_rag(llm, question, context):\n",
    "#     system_prompt = (\n",
    "#         \"Use the given context to answer the question. \"\n",
    "#         \"If you don't know the answer, say you don't know. \"\n",
    "#         \"Use three sentence maximum and keep the answer concise. \"\n",
    "#         \"Context: {context}\"\n",
    "#     )\n",
    "#     prompt = ChatPromptTemplate.from_messages(\n",
    "#         [\n",
    "#             (\"system\", system_prompt),\n",
    "#             (\"human\", \"{question}\"),\n",
    "#         ]\n",
    "#     )\n",
    "#     return llm.invoke(prompt.invoke({\"question\": question, \"context\": context}))"
   ]
  },
  {
   "cell_type": "code",
   "execution_count": null,
   "metadata": {},
   "outputs": [],
   "source": [
    "# for question in USER_QUESTIONS:\n",
    "#     result = call_rag(llm, question, context)\n",
    "#     pprint.pp(result)"
   ]
  },
  {
   "cell_type": "code",
   "execution_count": null,
   "metadata": {},
   "outputs": [],
   "source": []
  },
  {
   "cell_type": "code",
   "execution_count": null,
   "metadata": {},
   "outputs": [],
   "source": [
    "print(CYPHER_GENERATION_TEMPLATE)"
   ]
  },
  {
   "cell_type": "code",
   "execution_count": null,
   "metadata": {},
   "outputs": [],
   "source": [
    "for question in USER_QUESTIONS:\n",
    "    print(question)\n",
    "    query_graph_db(\n",
    "        CYPHER_GENERATION_TEMPLATE,\n",
    "        llm,\n",
    "        kg,\n",
    "        question,\n",
    "    )\n",
    "    # pprint.pp(result)"
   ]
  },
  {
   "cell_type": "code",
   "execution_count": null,
   "metadata": {},
   "outputs": [],
   "source": [
    "template = CYPHER_GENERATION_TEMPLATE + \"\"\"\n",
    "# all e-commerce jobs\n",
    "CALL db.index.fulltext.queryNodes(\"fulltext_job_title\", \n",
    "      \"e-commerce\") YIELD node, score\n",
    "  RETURN node.job_title\n",
    "\"\"\"\n",
    "\n",
    "for question in USER_QUESTIONS:\n",
    "    print(question)\n",
    "    result = query_graph_db(\n",
    "        template,\n",
    "        llm,\n",
    "        kg,\n",
    "        question,\n",
    "    )\n",
    "    print(result)\n",
    "    print()"
   ]
  },
  {
   "cell_type": "code",
   "execution_count": null,
   "metadata": {},
   "outputs": [],
   "source": [
    "question = \"Summarize all Salesforce jobs\"\n",
    "\n",
    "print(question)\n",
    "result = query_graph_db(\n",
    "    template,\n",
    "    llm,\n",
    "    kg,\n",
    "    question,\n",
    ")\n",
    "\n",
    "pprint.pp(result)"
   ]
  },
  {
   "cell_type": "code",
   "execution_count": null,
   "metadata": {},
   "outputs": [],
   "source": []
  },
  {
   "cell_type": "code",
   "execution_count": null,
   "metadata": {},
   "outputs": [],
   "source": []
  }
 ],
 "metadata": {
  "kernelspec": {
   "display_name": "Python 3",
   "language": "python",
   "name": "python3"
  },
  "language_info": {
   "codemirror_mode": {
    "name": "ipython",
    "version": 3
   },
   "file_extension": ".py",
   "mimetype": "text/x-python",
   "name": "python",
   "nbconvert_exporter": "python",
   "pygments_lexer": "ipython3",
   "version": "3.11.9"
  }
 },
 "nbformat": 4,
 "nbformat_minor": 2
}
